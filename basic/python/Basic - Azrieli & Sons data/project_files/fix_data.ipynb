{
 "cells": [
  {
   "cell_type": "code",
   "execution_count": 49,
   "metadata": {},
   "outputs": [],
   "source": [
    "import pandas as pd\n",
    "import numpy as np\n",
    "import seaborn as sns\n",
    "import datetime \n",
    "from datetime import timedelta\n",
    "import os\n",
    "from constants import *\n",
    "from trip_file import TripFile\n",
    "from trip import Trip\n"
   ]
  },
  {
   "cell_type": "markdown",
   "metadata": {},
   "source": [
    "### Read all files"
   ]
  },
  {
   "cell_type": "code",
   "execution_count": 118,
   "metadata": {},
   "outputs": [],
   "source": [
    "taarif = pd.read_csv(\"../files/taarif.csv\")\n",
    "taarif = taarif.drop(0).reset_index().drop(columns=[\"index\"]) # first row is nulls\n",
    "new_drivers = pd.read_csv(\"../files/new_drivers.csv\", index_col=0)\n",
    "drivers_with_kviut = pd.read_csv(\"../files/drivers_with_kviut.csv\",index_col=0)"
   ]
  },
  {
   "cell_type": "code",
   "execution_count": 119,
   "metadata": {},
   "outputs": [],
   "source": [
    "\n",
    "\n",
    "def preprocess_drivers(drivers: pd.DataFrame, copy=False) -> pd.DataFrame:\n",
    "    df = drivers\n",
    "    if copy:\n",
    "        df = drivers.copy()\n",
    "\n",
    "    gender_mapping = {\"F\": FEMALE,\n",
    "                    \"M\":MALE,\n",
    "                    \"m\":MALE,\n",
    "                    \"male\":MALE,\n",
    "                    \"boy\":MALE,\n",
    "                    \"unknown\":UNKOWN,\n",
    "                    'woman':FEMALE,\n",
    "                    'girl':FEMALE,\n",
    "                    'none':UNKOWN,\n",
    "                    'female':FEMALE}\n",
    "\n",
    "    # Make preprocess\n",
    "    df.gender.fillna(UNKOWN, inplace=True)\n",
    "    df.gender = df.gender.apply(lambda x: gender_mapping[x])\n",
    "    df.birthdate = pd.to_datetime(df.birthdate, format=\"mixed\")\n",
    "    drivers.birthdate.fillna(datetime.datetime.now(),inplace=True)\n",
    "\n",
    "    return df\n",
    "\n",
    "def preprocess_taarif(taarif_df: pd.DataFrame, copy=False) -> pd.DataFrame:\n",
    "        df = taarif_df\n",
    "        if copy:\n",
    "            df = new_drivers.copy()\n",
    "\n",
    "        return df\n",
    "\n",
    "\n",
    "# Concat the two tables of drivers with and without kviut\n",
    "def concat_drivers_tables(new_drivers, drivers_with_kviut):\n",
    "    drivers_with_kviut[\"kviut\"] = 1\n",
    "    drivers = pd.concat([new_drivers, drivers_with_kviut])\n",
    "    drivers[\"kviut\"].fillna(0, inplace=True)\n",
    "    return drivers\n",
    "    "
   ]
  },
  {
   "cell_type": "code",
   "execution_count": null,
   "metadata": {},
   "outputs": [],
   "source": [
    "drivers = concat_drivers_tables(new_drivers, drivers_with_kviut)\n",
    "drivers = preprocess_drivers(drivers, copy=True)"
   ]
  },
  {
   "cell_type": "code",
   "execution_count": null,
   "metadata": {},
   "outputs": [],
   "source": [
    "from tqdm import tqdm\n",
    "def get_trip_files(folder, limit=100):\n",
    "    files = np.array(list(os.listdir(folder)))\n",
    "    if limit:\n",
    "        files = files[:limit]\n",
    "    files = np.array([name if not name[-5] == \")\" else name[:-7]+\".csv\" for name in files])\n",
    "    print(\"Processing files....\")\n",
    "    return np.array([TripFile(os.path.join(folder,file)) for file in tqdm(files)])\n",
    "\n",
    "\n",
    "def is_friday(time):\n",
    "    return time.weekday() == 4\n",
    "def is_after_4pm(time):\n",
    "    return time.hour >=16\n",
    "def is_saturday(time):\n",
    "    return time.weekday() == 5\n",
    "def is_before_8pm(time):\n",
    "    return time.hour < 20 or (time.hour == 20 and time.minute == 0 and time.second == 0) \n",
    "\n",
    "def is_after_hour(time, hour):\n",
    "    return time.hour >= hour\n",
    "def is_before_hour(time, hour):\n",
    "    return time.hour < hour or (time.hour == hour and time.minute == 0 and time.second == 0) \n",
    "\n",
    "def count_time_in_weekend(start_time, end_time):\n",
    "    count = 0\n",
    "    current_time = start_time\n",
    "\n",
    "    while current_time < end_time:\n",
    "        next_time = min(end_time, current_time + datetime.timedelta(hours=1))\n",
    "        if is_friday(next_time):\n",
    "            if is_after_hour(next_time, 16):\n",
    "                friday_4pm = datetime.datetime(next_time.year, next_time.month, next_time.day, 16, 0)\n",
    "                count += (next_time - max(current_time, friday_4pm)) / timedelta(hours=1)\n",
    "        elif is_saturday(next_time):\n",
    "            if is_before_hour(current_time, 20) or is_friday(current_time): # when next time jumps to midnight the current time is still on friday\n",
    "                saturday_8pm= datetime.datetime(next_time.year, next_time.month, next_time.day, 20, 0)\n",
    "                count += (min(next_time, saturday_8pm) - current_time) / timedelta(hours=1)\n",
    "        \n",
    "        current_time = current_time + datetime.timedelta(hours=1)\n",
    "\n",
    "    return count\n",
    "\n",
    "def count_time_at_night(start_time, end_time):\n",
    "    count = 0\n",
    "    current_time = start_time\n",
    "\n",
    "    while current_time < end_time:\n",
    "        next_time = min(end_time, current_time + datetime.timedelta(hours=1))\n",
    "        if is_after_hour(next_time, 22):\n",
    "                ten_pm = datetime.datetime(next_time.year, next_time.month, next_time.day, 22, 0)\n",
    "                count += (next_time - max(current_time, ten_pm)) / timedelta(hours=1)\n",
    "        elif is_before_hour(current_time, 6) or is_after_hour(current_time, 22):\n",
    "                six_am = datetime.datetime(next_time.year, next_time.month, next_time.day, 6, 0)\n",
    "                count += (min(next_time, six_am) - current_time) / timedelta(hours=1)\n",
    "        \n",
    "        current_time = current_time + datetime.timedelta(hours=1)\n",
    "    return count"
   ]
  },
  {
   "cell_type": "code",
   "execution_count": 123,
   "metadata": {},
   "outputs": [
    {
     "name": "stdout",
     "output_type": "stream",
     "text": [
      "Processing files....\n"
     ]
    },
    {
     "name": "stderr",
     "output_type": "stream",
     "text": [
      "100%|██████████| 1/1 [00:00<00:00, 250.05it/s]\n"
     ]
    },
    {
     "name": "stdout",
     "output_type": "stream",
     "text": [
      "Processing income of drivers...\n"
     ]
    },
    {
     "name": "stderr",
     "output_type": "stream",
     "text": [
      "  0%|          | 0/1 [00:00<?, ?it/s]\n"
     ]
    },
    {
     "ename": "TypeError",
     "evalue": "can only concatenate str (not \"datetime.timedelta\") to str",
     "output_type": "error",
     "traceback": [
      "\u001b[1;31m---------------------------------------------------------------------------\u001b[0m",
      "\u001b[1;31mTypeError\u001b[0m                                 Traceback (most recent call last)",
      "Cell \u001b[1;32mIn[123], line 71\u001b[0m\n\u001b[0;32m     67\u001b[0m     cum_table \u001b[38;5;241m=\u001b[39m pd\u001b[38;5;241m.\u001b[39mmerge(cum_table, drivers_copy[[\u001b[38;5;124m\"\u001b[39m\u001b[38;5;124mdriver_id\u001b[39m\u001b[38;5;124m\"\u001b[39m,\u001b[38;5;124m\"\u001b[39m\u001b[38;5;124mgender\u001b[39m\u001b[38;5;124m\"\u001b[39m,\u001b[38;5;124m\"\u001b[39m\u001b[38;5;124mage\u001b[39m\u001b[38;5;124m\"\u001b[39m,\u001b[38;5;124m\"\u001b[39m\u001b[38;5;124mvetek\u001b[39m\u001b[38;5;124m\"\u001b[39m,\u001b[38;5;124m\"\u001b[39m\u001b[38;5;124mkviut\u001b[39m\u001b[38;5;124m\"\u001b[39m]], on\u001b[38;5;241m=\u001b[39m[\u001b[38;5;124m\"\u001b[39m\u001b[38;5;124mdriver_id\u001b[39m\u001b[38;5;124m\"\u001b[39m], how\u001b[38;5;241m=\u001b[39m\u001b[38;5;124m\"\u001b[39m\u001b[38;5;124mleft\u001b[39m\u001b[38;5;124m\"\u001b[39m)\n\u001b[0;32m     69\u001b[0m     \u001b[38;5;28;01mreturn\u001b[39;00m cum_table\n\u001b[1;32m---> 71\u001b[0m table \u001b[38;5;241m=\u001b[39m \u001b[43mcreate_main_table\u001b[49m\u001b[43m(\u001b[49m\u001b[43m)\u001b[49m\n\u001b[0;32m     73\u001b[0m table[table[\u001b[38;5;124m\"\u001b[39m\u001b[38;5;124mdriver_id\u001b[39m\u001b[38;5;124m\"\u001b[39m] \u001b[38;5;241m==\u001b[39m \u001b[38;5;241m1\u001b[39m]\n",
      "Cell \u001b[1;32mIn[123], line 49\u001b[0m, in \u001b[0;36mcreate_main_table\u001b[1;34m()\u001b[0m\n\u001b[0;32m     47\u001b[0m \u001b[38;5;66;03m# print(trip_df)\u001b[39;00m\n\u001b[0;32m     48\u001b[0m trips_with_fares \u001b[38;5;241m=\u001b[39m pd\u001b[38;5;241m.\u001b[39mmerge(trip_df, taarif, on\u001b[38;5;241m=\u001b[39m[\u001b[38;5;124m\"\u001b[39m\u001b[38;5;124mcustomer\u001b[39m\u001b[38;5;124m\"\u001b[39m],how\u001b[38;5;241m=\u001b[39m\u001b[38;5;124m\"\u001b[39m\u001b[38;5;124mleft\u001b[39m\u001b[38;5;124m\"\u001b[39m)\n\u001b[1;32m---> 49\u001b[0m df \u001b[38;5;241m=\u001b[39m \u001b[43mcalculate_trips_cost\u001b[49m\u001b[43m(\u001b[49m\u001b[43mtrips_with_fares\u001b[49m\u001b[43m)\u001b[49m\n\u001b[0;32m     50\u001b[0m df[\u001b[38;5;124m\"\u001b[39m\u001b[38;5;124mmonth\u001b[39m\u001b[38;5;124m\"\u001b[39m] \u001b[38;5;241m=\u001b[39m trip_file\u001b[38;5;241m.\u001b[39mget_month()\n\u001b[0;32m     51\u001b[0m df[\u001b[38;5;124m\"\u001b[39m\u001b[38;5;124myear\u001b[39m\u001b[38;5;124m\"\u001b[39m] \u001b[38;5;241m=\u001b[39m trip_file\u001b[38;5;241m.\u001b[39mget_year()\n",
      "Cell \u001b[1;32mIn[123], line 14\u001b[0m, in \u001b[0;36mcalculate_trips_cost\u001b[1;34m(trips_with_fares)\u001b[0m\n\u001b[0;32m     10\u001b[0m \u001b[38;5;28;01mdef\u001b[39;00m \u001b[38;5;21mcalculate_trips_cost\u001b[39m(trips_with_fares):\n\u001b[0;32m     12\u001b[0m     df \u001b[38;5;241m=\u001b[39m trips_with_fares\u001b[38;5;241m.\u001b[39mcopy()\n\u001b[1;32m---> 14\u001b[0m     weekend_hours \u001b[38;5;241m=\u001b[39m \u001b[43mdf\u001b[49m\u001b[38;5;241;43m.\u001b[39;49m\u001b[43mapply\u001b[49m\u001b[43m(\u001b[49m\u001b[38;5;28;43;01mlambda\u001b[39;49;00m\u001b[43m \u001b[49m\u001b[43mr\u001b[49m\u001b[43m:\u001b[49m\u001b[43m \u001b[49m\u001b[43mcount_time_in_weekend\u001b[49m\u001b[43m(\u001b[49m\u001b[43mr\u001b[49m\u001b[38;5;241;43m.\u001b[39;49m\u001b[43mstart_time\u001b[49m\u001b[43m,\u001b[49m\u001b[43m \u001b[49m\u001b[43mr\u001b[49m\u001b[38;5;241;43m.\u001b[39;49m\u001b[43mend_time\u001b[49m\u001b[43m)\u001b[49m\u001b[43m,\u001b[49m\u001b[43m \u001b[49m\u001b[43maxis\u001b[49m\u001b[38;5;241;43m=\u001b[39;49m\u001b[38;5;241;43m1\u001b[39;49m\u001b[43m)\u001b[49m\n\u001b[0;32m     15\u001b[0m     night_hours \u001b[38;5;241m=\u001b[39m df\u001b[38;5;241m.\u001b[39mapply(\u001b[38;5;28;01mlambda\u001b[39;00m r: count_time_at_night(r\u001b[38;5;241m.\u001b[39mstart_time, r\u001b[38;5;241m.\u001b[39mend_time), axis\u001b[38;5;241m=\u001b[39m\u001b[38;5;241m1\u001b[39m)\n\u001b[0;32m     17\u001b[0m     is_weekend \u001b[38;5;241m=\u001b[39m weekend_hours\u001b[38;5;241m.\u001b[39mapply(\u001b[38;5;28;01mlambda\u001b[39;00m x: x \u001b[38;5;241m>\u001b[39m \u001b[38;5;241m0\u001b[39m)\n",
      "File \u001b[1;32m~\\AppData\\Local\\Packages\\PythonSoftwareFoundation.Python.3.11_qbz5n2kfra8p0\\LocalCache\\local-packages\\Python311\\site-packages\\pandas\\core\\frame.py:9423\u001b[0m, in \u001b[0;36mDataFrame.apply\u001b[1;34m(self, func, axis, raw, result_type, args, **kwargs)\u001b[0m\n\u001b[0;32m   9412\u001b[0m \u001b[38;5;28;01mfrom\u001b[39;00m \u001b[38;5;21;01mpandas\u001b[39;00m\u001b[38;5;21;01m.\u001b[39;00m\u001b[38;5;21;01mcore\u001b[39;00m\u001b[38;5;21;01m.\u001b[39;00m\u001b[38;5;21;01mapply\u001b[39;00m \u001b[38;5;28;01mimport\u001b[39;00m frame_apply\n\u001b[0;32m   9414\u001b[0m op \u001b[38;5;241m=\u001b[39m frame_apply(\n\u001b[0;32m   9415\u001b[0m     \u001b[38;5;28mself\u001b[39m,\n\u001b[0;32m   9416\u001b[0m     func\u001b[38;5;241m=\u001b[39mfunc,\n\u001b[1;32m   (...)\u001b[0m\n\u001b[0;32m   9421\u001b[0m     kwargs\u001b[38;5;241m=\u001b[39mkwargs,\n\u001b[0;32m   9422\u001b[0m )\n\u001b[1;32m-> 9423\u001b[0m \u001b[38;5;28;01mreturn\u001b[39;00m \u001b[43mop\u001b[49m\u001b[38;5;241;43m.\u001b[39;49m\u001b[43mapply\u001b[49m\u001b[43m(\u001b[49m\u001b[43m)\u001b[49m\u001b[38;5;241m.\u001b[39m__finalize__(\u001b[38;5;28mself\u001b[39m, method\u001b[38;5;241m=\u001b[39m\u001b[38;5;124m\"\u001b[39m\u001b[38;5;124mapply\u001b[39m\u001b[38;5;124m\"\u001b[39m)\n",
      "File \u001b[1;32m~\\AppData\\Local\\Packages\\PythonSoftwareFoundation.Python.3.11_qbz5n2kfra8p0\\LocalCache\\local-packages\\Python311\\site-packages\\pandas\\core\\apply.py:678\u001b[0m, in \u001b[0;36mFrameApply.apply\u001b[1;34m(self)\u001b[0m\n\u001b[0;32m    675\u001b[0m \u001b[38;5;28;01melif\u001b[39;00m \u001b[38;5;28mself\u001b[39m\u001b[38;5;241m.\u001b[39mraw:\n\u001b[0;32m    676\u001b[0m     \u001b[38;5;28;01mreturn\u001b[39;00m \u001b[38;5;28mself\u001b[39m\u001b[38;5;241m.\u001b[39mapply_raw()\n\u001b[1;32m--> 678\u001b[0m \u001b[38;5;28;01mreturn\u001b[39;00m \u001b[38;5;28;43mself\u001b[39;49m\u001b[38;5;241;43m.\u001b[39;49m\u001b[43mapply_standard\u001b[49m\u001b[43m(\u001b[49m\u001b[43m)\u001b[49m\n",
      "File \u001b[1;32m~\\AppData\\Local\\Packages\\PythonSoftwareFoundation.Python.3.11_qbz5n2kfra8p0\\LocalCache\\local-packages\\Python311\\site-packages\\pandas\\core\\apply.py:798\u001b[0m, in \u001b[0;36mFrameApply.apply_standard\u001b[1;34m(self)\u001b[0m\n\u001b[0;32m    797\u001b[0m \u001b[38;5;28;01mdef\u001b[39;00m \u001b[38;5;21mapply_standard\u001b[39m(\u001b[38;5;28mself\u001b[39m):\n\u001b[1;32m--> 798\u001b[0m     results, res_index \u001b[38;5;241m=\u001b[39m \u001b[38;5;28;43mself\u001b[39;49m\u001b[38;5;241;43m.\u001b[39;49m\u001b[43mapply_series_generator\u001b[49m\u001b[43m(\u001b[49m\u001b[43m)\u001b[49m\n\u001b[0;32m    800\u001b[0m     \u001b[38;5;66;03m# wrap results\u001b[39;00m\n\u001b[0;32m    801\u001b[0m     \u001b[38;5;28;01mreturn\u001b[39;00m \u001b[38;5;28mself\u001b[39m\u001b[38;5;241m.\u001b[39mwrap_results(results, res_index)\n",
      "File \u001b[1;32m~\\AppData\\Local\\Packages\\PythonSoftwareFoundation.Python.3.11_qbz5n2kfra8p0\\LocalCache\\local-packages\\Python311\\site-packages\\pandas\\core\\apply.py:814\u001b[0m, in \u001b[0;36mFrameApply.apply_series_generator\u001b[1;34m(self)\u001b[0m\n\u001b[0;32m    811\u001b[0m \u001b[38;5;28;01mwith\u001b[39;00m option_context(\u001b[38;5;124m\"\u001b[39m\u001b[38;5;124mmode.chained_assignment\u001b[39m\u001b[38;5;124m\"\u001b[39m, \u001b[38;5;28;01mNone\u001b[39;00m):\n\u001b[0;32m    812\u001b[0m     \u001b[38;5;28;01mfor\u001b[39;00m i, v \u001b[38;5;129;01min\u001b[39;00m \u001b[38;5;28menumerate\u001b[39m(series_gen):\n\u001b[0;32m    813\u001b[0m         \u001b[38;5;66;03m# ignore SettingWithCopy here in case the user mutates\u001b[39;00m\n\u001b[1;32m--> 814\u001b[0m         results[i] \u001b[38;5;241m=\u001b[39m \u001b[38;5;28;43mself\u001b[39;49m\u001b[38;5;241;43m.\u001b[39;49m\u001b[43mf\u001b[49m\u001b[43m(\u001b[49m\u001b[43mv\u001b[49m\u001b[43m)\u001b[49m\n\u001b[0;32m    815\u001b[0m         \u001b[38;5;28;01mif\u001b[39;00m \u001b[38;5;28misinstance\u001b[39m(results[i], ABCSeries):\n\u001b[0;32m    816\u001b[0m             \u001b[38;5;66;03m# If we have a view on v, we need to make a copy because\u001b[39;00m\n\u001b[0;32m    817\u001b[0m             \u001b[38;5;66;03m#  series_generator will swap out the underlying data\u001b[39;00m\n\u001b[0;32m    818\u001b[0m             results[i] \u001b[38;5;241m=\u001b[39m results[i]\u001b[38;5;241m.\u001b[39mcopy(deep\u001b[38;5;241m=\u001b[39m\u001b[38;5;28;01mFalse\u001b[39;00m)\n",
      "Cell \u001b[1;32mIn[123], line 14\u001b[0m, in \u001b[0;36mcalculate_trips_cost.<locals>.<lambda>\u001b[1;34m(r)\u001b[0m\n\u001b[0;32m     10\u001b[0m \u001b[38;5;28;01mdef\u001b[39;00m \u001b[38;5;21mcalculate_trips_cost\u001b[39m(trips_with_fares):\n\u001b[0;32m     12\u001b[0m     df \u001b[38;5;241m=\u001b[39m trips_with_fares\u001b[38;5;241m.\u001b[39mcopy()\n\u001b[1;32m---> 14\u001b[0m     weekend_hours \u001b[38;5;241m=\u001b[39m df\u001b[38;5;241m.\u001b[39mapply(\u001b[38;5;28;01mlambda\u001b[39;00m r: \u001b[43mcount_time_in_weekend\u001b[49m\u001b[43m(\u001b[49m\u001b[43mr\u001b[49m\u001b[38;5;241;43m.\u001b[39;49m\u001b[43mstart_time\u001b[49m\u001b[43m,\u001b[49m\u001b[43m \u001b[49m\u001b[43mr\u001b[49m\u001b[38;5;241;43m.\u001b[39;49m\u001b[43mend_time\u001b[49m\u001b[43m)\u001b[49m, axis\u001b[38;5;241m=\u001b[39m\u001b[38;5;241m1\u001b[39m)\n\u001b[0;32m     15\u001b[0m     night_hours \u001b[38;5;241m=\u001b[39m df\u001b[38;5;241m.\u001b[39mapply(\u001b[38;5;28;01mlambda\u001b[39;00m r: count_time_at_night(r\u001b[38;5;241m.\u001b[39mstart_time, r\u001b[38;5;241m.\u001b[39mend_time), axis\u001b[38;5;241m=\u001b[39m\u001b[38;5;241m1\u001b[39m)\n\u001b[0;32m     17\u001b[0m     is_weekend \u001b[38;5;241m=\u001b[39m weekend_hours\u001b[38;5;241m.\u001b[39mapply(\u001b[38;5;28;01mlambda\u001b[39;00m x: x \u001b[38;5;241m>\u001b[39m \u001b[38;5;241m0\u001b[39m)\n",
      "Cell \u001b[1;32mIn[116], line 30\u001b[0m, in \u001b[0;36mcount_time_in_weekend\u001b[1;34m(start_time, end_time)\u001b[0m\n\u001b[0;32m     27\u001b[0m current_time \u001b[38;5;241m=\u001b[39m start_time\n\u001b[0;32m     29\u001b[0m \u001b[38;5;28;01mwhile\u001b[39;00m current_time \u001b[38;5;241m<\u001b[39m end_time:\n\u001b[1;32m---> 30\u001b[0m     next_time \u001b[38;5;241m=\u001b[39m \u001b[38;5;28mmin\u001b[39m(end_time, \u001b[43mcurrent_time\u001b[49m\u001b[43m \u001b[49m\u001b[38;5;241;43m+\u001b[39;49m\u001b[43m \u001b[49m\u001b[43mdatetime\u001b[49m\u001b[38;5;241;43m.\u001b[39;49m\u001b[43mtimedelta\u001b[49m\u001b[43m(\u001b[49m\u001b[43mhours\u001b[49m\u001b[38;5;241;43m=\u001b[39;49m\u001b[38;5;241;43m1\u001b[39;49m\u001b[43m)\u001b[49m)\n\u001b[0;32m     31\u001b[0m     \u001b[38;5;28;01mif\u001b[39;00m is_friday(next_time):\n\u001b[0;32m     32\u001b[0m         \u001b[38;5;28;01mif\u001b[39;00m is_after_hour(next_time, \u001b[38;5;241m16\u001b[39m):\n",
      "\u001b[1;31mTypeError\u001b[0m: can only concatenate str (not \"datetime.timedelta\") to str"
     ]
    }
   ],
   "source": [
    "\n",
    "# Calculate age function\n",
    "def calculate_age(birth_date):\n",
    "    current_date = datetime.datetime.now()\n",
    "    if pd.isnull(birth_date):\n",
    "        return np.nan\n",
    "    age = current_date.year - birth_date.year - ((current_date.month, current_date.day) < (birth_date.month, birth_date.day))\n",
    "    return age\n",
    "\n",
    "\n",
    "def calculate_trips_cost(trips_with_fares):\n",
    "    \n",
    "    df = trips_with_fares.copy()\n",
    "    \n",
    "    weekend_hours = df.apply(lambda r: count_time_in_weekend(r.start_time, r.end_time), axis=1)\n",
    "    night_hours = df.apply(lambda r: count_time_at_night(r.start_time, r.end_time), axis=1)\n",
    "\n",
    "    is_weekend = weekend_hours.apply(lambda x: x > 0)\n",
    "    is_night = night_hours.apply(lambda x: x > 0)\n",
    "\n",
    "    km_per_hour = df[\"km\"] / ((df[\"start_time\"]-df[\"end_time\"]) / timedelta(hour=1))\n",
    "    \n",
    "\n",
    "    basic_pay = df.km * df.basic_taarif\n",
    "    extra_pay = df.km.apply(lambda km: max(0, km - 200)) * df.extra_milage\n",
    "    payment_without_bonus = basic_pay + extra_pay\n",
    "\n",
    "    # bonus_precentage = ((is_weekend.apply(int) * df.weekend_bonus) + (is_night.apply(int) * df.night_bonus))\n",
    "    bonus_precentage = 0\n",
    "    payment_with_bonus = payment_without_bonus * (1 + bonus_precentage/100) \n",
    "\n",
    "    df[\"basic_pay\"] = basic_pay\n",
    "    df[\"extra_pay\"] = extra_pay\n",
    "    df[\"kph\"] = km_per_hour\n",
    "    df[\"bonus_precentage\"] = bonus_precentage\n",
    "    df[\"payment_without_bonus\"] = payment_without_bonus\n",
    "    df[\"payment_with_bonus\"] = payment_with_bonus\n",
    "    return df\n",
    "\n",
    "\n",
    "def create_main_table():\n",
    "    cum_table = pd.DataFrame(columns=[\"driver_id\",\"month\",\"year\",\"total_income\",\"total_km\"])\n",
    "    trip_files = get_trip_files(\"../files/trips_data\", limit=1)\n",
    "    print(\"Processing income of drivers...\")\n",
    "    for trip_file in tqdm(trip_files):\n",
    "        \n",
    "        trip_df = trip_file.get_data_frame()\n",
    "        # print(trip_df)\n",
    "        trips_with_fares = pd.merge(trip_df, taarif, on=[\"customer\"],how=\"left\")\n",
    "        df = calculate_trips_cost(trips_with_fares)\n",
    "        df[\"month\"] = trip_file.get_month()\n",
    "        df[\"year\"] = trip_file.get_year()\n",
    "\n",
    "        # print(df)\n",
    "        subset_columns = [\"driver_id\", \"month\", \"year\", \"payment_with_bonus\", \"km\"]\n",
    "        df_to_concat = df[subset_columns]\n",
    "        new_column_names = {'payment_with_bonus': 'total_income', 'km': 'total_km'}\n",
    "        df_to_concat = df_to_concat.rename(columns=new_column_names)\n",
    "        \n",
    "        cum_table = pd.concat([cum_table, df_to_concat], axis=0, join=\"outer\")\n",
    "        cum_table = cum_table.reset_index().drop(columns=[\"index\"])\n",
    "        cum_table = cum_table.groupby([\"driver_id\",\"month\",\"year\"]).sum().reset_index()\n",
    "\n",
    "        drivers_copy = drivers.copy()\n",
    "        drivers_copy[\"age\"] = drivers.birthdate.apply(calculate_age)\n",
    "        drivers_copy = drivers_copy.rename(columns={\"id\":\"driver_id\"})\n",
    "        \n",
    "    cum_table = pd.merge(cum_table, drivers_copy[[\"driver_id\",\"gender\",\"age\",\"vetek\",\"kviut\"]], on=[\"driver_id\"], how=\"left\")\n",
    "\n",
    "    return cum_table\n",
    "\n",
    "table = create_main_table()\n",
    "\n",
    "table[table[\"driver_id\"] == 1]"
   ]
  },
  {
   "cell_type": "code",
   "execution_count": null,
   "metadata": {},
   "outputs": [
    {
     "data": {
      "text/plain": [
       "0     3.25\n",
       "1     0.00\n",
       "2    26.00\n",
       "3     8.00\n",
       "dtype: float64"
      ]
     },
     "execution_count": 115,
     "metadata": {},
     "output_type": "execute_result"
    }
   ],
   "source": [
    "def count_time_at_night(start_time, end_time):\n",
    "    count = 0\n",
    "    current_time = start_time\n",
    "\n",
    "    while current_time < end_time:\n",
    "        next_time = min(end_time, current_time + datetime.timedelta(hours=1))\n",
    "        if is_after_hour(next_time, 22):\n",
    "                ten_pm = datetime.datetime(next_time.year, next_time.month, next_time.day, 22, 0)\n",
    "                count += (next_time - max(current_time, ten_pm)) / timedelta(hours=1)\n",
    "        elif is_before_hour(current_time, 6) or is_after_hour(current_time, 22):\n",
    "                six_am = datetime.datetime(next_time.year, next_time.month, next_time.day, 6, 0)\n",
    "                count += (min(next_time, six_am) - current_time) / timedelta(hours=1)\n",
    "        \n",
    "        current_time = current_time + datetime.timedelta(hours=1)\n",
    "    return count\n",
    "\n",
    "\n",
    "data = pd.DataFrame({\n",
    "    'start_time': ['2024-05-03 23:15:00', '2024-05-04 17:00:00', '2024-05-02 04:00:00', '2024-05-03 16:45:00'],\n",
    "    'end_time': ['2024-05-04 02:30:00', '2024-05-04 19:30:00', '2024-05-05 08:00:00', '2024-05-04 19:15:00']\n",
    "})\n",
    "\n",
    "# data = pd.DataFrame({\n",
    "#     'start_time': ['2024-05-03 16:45:00'],\n",
    "#     'end_time': [ '2024-05-04 20:01:00']\n",
    "# })\n",
    "\n",
    "def count_this(r):\n",
    "    return count_time_at_night(r[\"start_time\"],r[\"end_time\"])\n",
    "    # return count_time_in_weekend(r[\"start_time\"],r[\"end_time\"])\n",
    "    \n",
    "# data = data.map(datetime.datetime)\n",
    "data.start_time = pd.to_datetime(data.start_time)\n",
    "data.end_time = pd.to_datetime(data.end_time)\n",
    "data.apply(count_this, axis=1)"
   ]
  },
  {
   "cell_type": "code",
   "execution_count": null,
   "metadata": {},
   "outputs": [],
   "source": []
  },
  {
   "cell_type": "code",
   "execution_count": null,
   "metadata": {},
   "outputs": [],
   "source": []
  }
 ],
 "metadata": {
  "kernelspec": {
   "display_name": "Python 3",
   "language": "python",
   "name": "python3"
  },
  "language_info": {
   "codemirror_mode": {
    "name": "ipython",
    "version": 3
   },
   "file_extension": ".py",
   "mimetype": "text/x-python",
   "name": "python",
   "nbconvert_exporter": "python",
   "pygments_lexer": "ipython3",
   "version": "3.11.9"
  }
 },
 "nbformat": 4,
 "nbformat_minor": 2
}
