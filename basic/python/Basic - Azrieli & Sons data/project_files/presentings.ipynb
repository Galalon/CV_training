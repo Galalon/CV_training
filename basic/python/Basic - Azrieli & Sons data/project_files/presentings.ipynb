{
    "cells": [
        {
            "cell_type": "code",
            "execution_count": 11,
            "metadata": {},
            "outputs": [],
            "source": [
                "import pandas as pd\n",
                "import numpy as np\n",
                "import seaborn as sns\n",
                "import datetime \n",
                "from datetime import timedelta\n",
                "import os\n",
                "from constants import *\n",
                "from trip_file import TripFile\n",
                "from trip import Trip\n",
                "from tqdm import tqdm\n",
                "import seaborn as sns\n"
            ]
        },
        {
            "cell_type": "code",
            "execution_count": null,
            "metadata": {},
            "outputs": [],
            "source": []
        },
        {
            "cell_type": "code",
            "execution_count": 4,
            "metadata": {},
            "outputs": [],
            "source": [
                "\n",
                "\n",
                "def preprocess_drivers(drivers: pd.DataFrame, copy=False) -> pd.DataFrame:\n",
                "    df = drivers\n",
                "    if copy:\n",
                "        df = drivers.copy()\n",
                "\n",
                "    gender_mapping = {\"F\": FEMALE,\n",
                "                    \"M\":MALE,\n",
                "                    \"m\":MALE,\n",
                "                    \"male\":MALE,\n",
                "                    \"boy\":MALE,\n",
                "                    \"unknown\":UNKOWN,\n",
                "                    'woman':FEMALE,\n",
                "                    'girl':FEMALE,\n",
                "                    'none':UNKOWN,\n",
                "                    'female':FEMALE,\n",
                "                    UNKOWN:UNKOWN}\n",
                "\n",
                "    # Make preprocess\n",
                "    df.gender.fillna(UNKOWN, inplace=True)\n",
                "    df.gender = df.gender.apply(lambda x: gender_mapping[x])\n",
                "    df.birthdate = pd.to_datetime(df.birthdate, format=\"mixed\")\n",
                "    drivers.birthdate.fillna(datetime.datetime.now(),inplace=True)\n",
                "\n",
                "    return df\n",
                "\n",
                "\n",
                "# Concat the two tables of drivers with and without kviut\n",
                "def concat_drivers_tables(new_drivers, drivers_with_kviut):\n",
                "    drivers_with_kviut[\"kviut\"] = 1\n",
                "    drivers = pd.concat([new_drivers, drivers_with_kviut])\n",
                "    drivers[\"kviut\"].fillna(0, inplace=True)\n",
                "    return drivers"
            ]
        },
        {
            "cell_type": "code",
            "execution_count": 5,
            "metadata": {},
            "outputs": [
                {
                    "name": "stderr",
                    "output_type": "stream",
                    "text": [
                        "C:\\Users\\Ron Tohar\\AppData\\Local\\Temp\\ipykernel_18348\\385766342.py:31: FutureWarning: A value is trying to be set on a copy of a DataFrame or Series through chained assignment using an inplace method.\n",
                        "The behavior will change in pandas 3.0. This inplace method will never work because the intermediate object on which we are setting values always behaves as a copy.\n",
                        "\n",
                        "For example, when doing 'df[col].method(value, inplace=True)', try using 'df.method({col: value}, inplace=True)' or df[col] = df[col].method(value) instead, to perform the operation inplace on the original object.\n",
                        "\n",
                        "\n",
                        "  drivers[\"kviut\"].fillna(0, inplace=True)\n",
                        "C:\\Users\\Ron Tohar\\AppData\\Local\\Temp\\ipykernel_18348\\385766342.py:19: FutureWarning: A value is trying to be set on a copy of a DataFrame or Series through chained assignment using an inplace method.\n",
                        "The behavior will change in pandas 3.0. This inplace method will never work because the intermediate object on which we are setting values always behaves as a copy.\n",
                        "\n",
                        "For example, when doing 'df[col].method(value, inplace=True)', try using 'df.method({col: value}, inplace=True)' or df[col] = df[col].method(value) instead, to perform the operation inplace on the original object.\n",
                        "\n",
                        "\n",
                        "  df.gender.fillna(UNKOWN, inplace=True)\n",
                        "C:\\Users\\Ron Tohar\\AppData\\Local\\Temp\\ipykernel_18348\\385766342.py:22: FutureWarning: A value is trying to be set on a copy of a DataFrame or Series through chained assignment using an inplace method.\n",
                        "The behavior will change in pandas 3.0. This inplace method will never work because the intermediate object on which we are setting values always behaves as a copy.\n",
                        "\n",
                        "For example, when doing 'df[col].method(value, inplace=True)', try using 'df.method({col: value}, inplace=True)' or df[col] = df[col].method(value) instead, to perform the operation inplace on the original object.\n",
                        "\n",
                        "\n",
                        "  drivers.birthdate.fillna(datetime.datetime.now(),inplace=True)\n"
                    ]
                }
            ],
            "source": [
                "taarif = pd.read_csv(\"../files/taarif.csv\")\n",
                "taarif = taarif.drop(0).reset_index().drop(columns=[\"index\"]) # first row is nulls\n",
                "new_drivers = pd.read_csv(\"../files/new_drivers.csv\", index_col=0)\n",
                "drivers_with_kviut = pd.read_csv(\"../files/drivers_with_kviut.csv\",index_col=0)\n",
                "\n",
                "drivers = concat_drivers_tables(new_drivers, drivers_with_kviut)\n",
                "drivers = preprocess_drivers(drivers, copy=True)"
            ]
        },
        {
            "cell_type": "code",
            "execution_count": 9,
            "metadata": {},
            "outputs": [],
            "source": [
                "def get_trip_files(folder, limit=100):\n",
                "    files = np.array(list(os.listdir(folder)))\n",
                "    if limit:\n",
                "        files = files[:limit]\n",
                "    files = np.array([name if not name[-5] == \")\" else name[:-7]+\".csv\" for name in files])\n",
                "    print(\"Processing files....\")\n",
                "    return np.array([TripFile(os.path.join(folder,file)) for file in tqdm(files)])\n"
            ]
        },
        {
            "cell_type": "code",
            "execution_count": 17,
            "metadata": {},
            "outputs": [
                {
                    "name": "stdout",
                    "output_type": "stream",
                    "text": [
                        "Processing files....\n"
                    ]
                },
                {
                    "name": "stderr",
                    "output_type": "stream",
                    "text": [
                        "100%|██████████| 6111/6111 [00:22<00:00, 272.05it/s]\n"
                    ]
                }
            ],
            "source": [
                "trip_files = get_trip_files(\"../files/trips_data\", limit=None)"
            ]
        },
        {
            "cell_type": "code",
            "execution_count": 48,
            "metadata": {},
            "outputs": [],
            "source": [
                "all_dfs = [trip_file.get_data_frame() for trip_file in trip_files ]\n",
                "trips_df = pd.concat(all_dfs)\n",
                "trips_df.end_time = pd.to_datetime(trips_df[\"end_time\"])\n",
                "trips_df.start_time = pd.to_datetime(trips_df[\"start_time\"])\n"
            ]
        },
        {
            "cell_type": "code",
            "execution_count": 16,
            "metadata": {},
            "outputs": [
                {
                    "data": {
                        "text/plain": [
                            "<Axes: xlabel='customer', ylabel='Count'>"
                        ]
                    },
                    "execution_count": 16,
                    "metadata": {},
                    "output_type": "execute_result"
                },
                {
                    "data": {
                        "image/png": "[encoded data removed]",
                        "text/plain": [
                            "<Figure size 640x480 with 1 Axes>"
                        ]
                    },
                    "metadata": {},
                    "output_type": "display_data"
                }
            ],
            "source": [
                "sns.histplot(x=\"customer\", data=trips_df)"
            ]
        },
        {
            "cell_type": "code",
            "execution_count": 58,
            "metadata": {},
            "outputs": [
                {
                    "name": "stderr",
                    "output_type": "stream",
                    "text": [
                        "C:\\Users\\Ron Tohar\\AppData\\Local\\Temp\\ipykernel_18348\\184982217.py:4: SettingWithCopyWarning: \n",
                        "A value is trying to be set on a copy of a slice from a DataFrame.\n",
                        "Try using .loc[row_indexer,col_indexer] = value instead\n",
                        "\n",
                        "See the caveats in the documentation: https://pandas.pydata.org/pandas-docs/stable/user_guide/indexing.html#returning-a-view-versus-a-copy\n",
                        "  df1[\"kph\"] = kph\n",
                        "C:\\Users\\Ron Tohar\\AppData\\Local\\Temp\\ipykernel_18348\\184982217.py:5: SettingWithCopyWarning: \n",
                        "A value is trying to be set on a copy of a slice from a DataFrame.\n",
                        "Try using .loc[row_indexer,col_indexer] = value instead\n",
                        "\n",
                        "See the caveats in the documentation: https://pandas.pydata.org/pandas-docs/stable/user_guide/indexing.html#returning-a-view-versus-a-copy\n",
                        "  df1[\"diff\"] = diffs\n"
                    ]
                },
                {
                    "data": {
                        "text/html": [
                            "<div>\n",
                            "<style scoped>\n",
                            "    .dataframe tbody tr th:only-of-type {\n",
                            "        vertical-align: middle;\n",
                            "    }\n",
                            "\n",
                            "    .dataframe tbody tr th {\n",
                            "        vertical-align: top;\n",
                            "    }\n",
                            "\n",
                            "    .dataframe thead th {\n",
                            "        text-align: right;\n",
                            "    }\n",
                            "</style>\n",
                            "<table border=\"1\" class=\"dataframe\">\n",
                            "  <thead>\n",
                            "    <tr style=\"text-align: right;\">\n",
                            "      <th></th>\n",
                            "      <th>customer</th>\n",
                            "      <th>driver_id</th>\n",
                            "      <th>end_time</th>\n",
                            "      <th>km</th>\n",
                            "      <th>start_time</th>\n",
                            "      <th>kph</th>\n",
                            "      <th>diff</th>\n",
                            "    </tr>\n",
                            "  </thead>\n",
                            "  <tbody>\n",
                            "    <tr>\n",
                            "      <th>0</th>\n",
                            "      <td>iaf</td>\n",
                            "      <td>570</td>\n",
                            "      <td>2015-04-01 09:36:00</td>\n",
                            "      <td>672.312716</td>\n",
                            "      <td>2015-04-01 01:55:00</td>\n",
                            "      <td>87.502740</td>\n",
                            "      <td>7.683333</td>\n",
                            "    </tr>\n",
                            "    <tr>\n",
                            "      <th>1</th>\n",
                            "      <td>yes</td>\n",
                            "      <td>822</td>\n",
                            "      <td>2015-04-01 16:17:00</td>\n",
                            "      <td>96.048221</td>\n",
                            "      <td>2015-04-01 15:12:00</td>\n",
                            "      <td>88.659896</td>\n",
                            "      <td>1.083333</td>\n",
                            "    </tr>\n",
                            "    <tr>\n",
                            "      <th>0</th>\n",
                            "      <td>yes</td>\n",
                            "      <td>145</td>\n",
                            "      <td>2015-04-01 07:11:00</td>\n",
                            "      <td>500.332355</td>\n",
                            "      <td>2015-04-01 01:35:00</td>\n",
                            "      <td>89.345063</td>\n",
                            "      <td>5.600000</td>\n",
                            "    </tr>\n",
                            "    <tr>\n",
                            "      <th>1</th>\n",
                            "      <td>aminach</td>\n",
                            "      <td>124</td>\n",
                            "      <td>2015-04-01 15:31:00</td>\n",
                            "      <td>64.362047</td>\n",
                            "      <td>2015-04-01 14:45:00</td>\n",
                            "      <td>83.950496</td>\n",
                            "      <td>0.766667</td>\n",
                            "    </tr>\n",
                            "    <tr>\n",
                            "      <th>0</th>\n",
                            "      <td>yes</td>\n",
                            "      <td>443</td>\n",
                            "      <td>2015-04-01 03:26:00</td>\n",
                            "      <td>42.505700</td>\n",
                            "      <td>2015-04-01 02:53:00</td>\n",
                            "      <td>77.283090</td>\n",
                            "      <td>0.550000</td>\n",
                            "    </tr>\n",
                            "    <tr>\n",
                            "      <th>...</th>\n",
                            "      <td>...</td>\n",
                            "      <td>...</td>\n",
                            "      <td>...</td>\n",
                            "      <td>...</td>\n",
                            "      <td>...</td>\n",
                            "      <td>...</td>\n",
                            "      <td>...</td>\n",
                            "    </tr>\n",
                            "    <tr>\n",
                            "      <th>1</th>\n",
                            "      <td>intel</td>\n",
                            "      <td>151</td>\n",
                            "      <td>2015-04-01 18:24:00</td>\n",
                            "      <td>478.712578</td>\n",
                            "      <td>2015-04-01 12:24:00</td>\n",
                            "      <td>79.785430</td>\n",
                            "      <td>6.000000</td>\n",
                            "    </tr>\n",
                            "    <tr>\n",
                            "      <th>0</th>\n",
                            "      <td>angel</td>\n",
                            "      <td>603</td>\n",
                            "      <td>2015-04-01 04:55:00</td>\n",
                            "      <td>143.683914</td>\n",
                            "      <td>2015-04-01 02:36:00</td>\n",
                            "      <td>62.021833</td>\n",
                            "      <td>2.316667</td>\n",
                            "    </tr>\n",
                            "    <tr>\n",
                            "      <th>1</th>\n",
                            "      <td>osem</td>\n",
                            "      <td>578</td>\n",
                            "      <td>2015-04-01 20:30:00</td>\n",
                            "      <td>391.478456</td>\n",
                            "      <td>2015-04-01 15:15:00</td>\n",
                            "      <td>74.567325</td>\n",
                            "      <td>5.250000</td>\n",
                            "    </tr>\n",
                            "    <tr>\n",
                            "      <th>0</th>\n",
                            "      <td>iaf</td>\n",
                            "      <td>840</td>\n",
                            "      <td>2015-04-01 08:15:00</td>\n",
                            "      <td>604.094143</td>\n",
                            "      <td>2015-04-01 01:19:00</td>\n",
                            "      <td>87.128963</td>\n",
                            "      <td>6.933333</td>\n",
                            "    </tr>\n",
                            "    <tr>\n",
                            "      <th>1</th>\n",
                            "      <td>angel</td>\n",
                            "      <td>727</td>\n",
                            "      <td>2015-04-01 16:17:00</td>\n",
                            "      <td>106.420356</td>\n",
                            "      <td>2015-04-01 15:02:00</td>\n",
                            "      <td>85.136284</td>\n",
                            "      <td>1.250000</td>\n",
                            "    </tr>\n",
                            "  </tbody>\n",
                            "</table>\n",
                            "<p>996 rows × 7 columns</p>\n",
                            "</div>"
                        ],
                        "text/plain": [
                            "   customer  driver_id            end_time          km          start_time  \\\n",
                            "0       iaf        570 2015-04-01 09:36:00  672.312716 2015-04-01 01:55:00   \n",
                            "1       yes        822 2015-04-01 16:17:00   96.048221 2015-04-01 15:12:00   \n",
                            "0       yes        145 2015-04-01 07:11:00  500.332355 2015-04-01 01:35:00   \n",
                            "1   aminach        124 2015-04-01 15:31:00   64.362047 2015-04-01 14:45:00   \n",
                            "0       yes        443 2015-04-01 03:26:00   42.505700 2015-04-01 02:53:00   \n",
                            "..      ...        ...                 ...         ...                 ...   \n",
                            "1     intel        151 2015-04-01 18:24:00  478.712578 2015-04-01 12:24:00   \n",
                            "0     angel        603 2015-04-01 04:55:00  143.683914 2015-04-01 02:36:00   \n",
                            "1      osem        578 2015-04-01 20:30:00  391.478456 2015-04-01 15:15:00   \n",
                            "0       iaf        840 2015-04-01 08:15:00  604.094143 2015-04-01 01:19:00   \n",
                            "1     angel        727 2015-04-01 16:17:00  106.420356 2015-04-01 15:02:00   \n",
                            "\n",
                            "          kph      diff  \n",
                            "0   87.502740  7.683333  \n",
                            "1   88.659896  1.083333  \n",
                            "0   89.345063  5.600000  \n",
                            "1   83.950496  0.766667  \n",
                            "0   77.283090  0.550000  \n",
                            "..        ...       ...  \n",
                            "1   79.785430  6.000000  \n",
                            "0   62.021833  2.316667  \n",
                            "1   74.567325  5.250000  \n",
                            "0   87.128963  6.933333  \n",
                            "1   85.136284  1.250000  \n",
                            "\n",
                            "[996 rows x 7 columns]"
                        ]
                    },
                    "execution_count": 58,
                    "metadata": {},
                    "output_type": "execute_result"
                }
            ],
            "source": [
                "df1 = trips_df[trips_df[\"start_time\"].dt.date == pd.to_datetime(\"2015-04-01\").date()]\n",
                "diffs=  ((df1[\"end_time\"] - df1[\"start_time\"]) / timedelta(hours=1))\n",
                "kph = df1[\"km\"] / ((df1[\"end_time\"] - df1[\"start_time\"]) / timedelta(hours=1))\n",
                "df1[\"kph\"] = kph\n",
                "df1[\"diff\"] = diffs\n",
                "df1"
            ]
        },
        {
            "cell_type": "code",
            "execution_count": 61,
            "metadata": {},
            "outputs": [
                {
                    "data": {
                        "text/plain": [
                            "0    01:55:00\n",
                            "1    15:12:00\n",
                            "0    01:35:00\n",
                            "1    14:45:00\n",
                            "0    02:53:00\n",
                            "       ...   \n",
                            "1    12:24:00\n",
                            "0    02:36:00\n",
                            "1    15:15:00\n",
                            "0    01:19:00\n",
                            "1    15:02:00\n",
                            "Name: start_time, Length: 996, dtype: object"
                        ]
                    },
                    "execution_count": 61,
                    "metadata": {},
                    "output_type": "execute_result"
                }
            ],
            "source": [
                "sns.lineplot(x=df1[\"start_time\"].dt.time, y=\"kph\", data=df1)\n",
                "# df1[\"start_time\"].dt.time"
            ]
        }
    ],
    "metadata": {
        "kernelspec": {
            "display_name": "Python 3",
            "language": "python",
            "name": "python3"
        },
        "language_info": {
            "codemirror_mode": {
                "name": "ipython",
                "version": 3
            },
            "file_extension": ".py",
            "mimetype": "text/x-python",
            "name": "python",
            "nbconvert_exporter": "python",
            "pygments_lexer": "ipython3",
            "version": "3.11.9"
        }
    },
    "nbformat": 4,
    "nbformat_minor": 2
}
