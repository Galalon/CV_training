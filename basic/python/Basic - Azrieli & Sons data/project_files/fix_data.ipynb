{
 "cells": [
  {
   "cell_type": "code",
   "execution_count": 32,
   "metadata": {},
   "outputs": [],
   "source": [
    "import pandas as pd\n",
    "import numpy as np\n",
    "import seaborn as sns\n",
    "import datetime as datetime\n",
    "import os\n",
    "from constants import *\n",
    "from trip_file import TripFile\n",
    "from trip import Trip\n"
   ]
  },
  {
   "cell_type": "markdown",
   "metadata": {},
   "source": [
    "### Read all files"
   ]
  },
  {
   "cell_type": "code",
   "execution_count": 3,
   "metadata": {},
   "outputs": [],
   "source": [
    "taarif = pd.read_csv(\"../files/taarif.csv\")\n",
    "taarif = taarif.drop(0).reset_index().drop(columns=[\"index\"]) # first row is nulls\n",
    "new_drivers = pd.read_csv(\"../files/new_drivers.csv\", index_col=0)\n",
    "drivers_with_kviut = pd.read_csv(\"../files/drivers_with_kviut.csv\",index_col=0)"
   ]
  },
  {
   "cell_type": "code",
   "execution_count": 4,
   "metadata": {},
   "outputs": [],
   "source": [
    "\n",
    "\n",
    "def preprocess_drivers(drivers: pd.DataFrame, copy=False) -> pd.DataFrame:\n",
    "    df = drivers\n",
    "    if copy:\n",
    "        df = drivers.copy()\n",
    "\n",
    "    gender_mapping = {\"F\": FEMALE,\n",
    "                    \"M\":MALE,\n",
    "                    \"m\":MALE,\n",
    "                    \"male\":MALE,\n",
    "                    \"boy\":MALE,\n",
    "                    \"unknown\":MALE,\n",
    "                    'woman':FEMALE,\n",
    "                    'girl':FEMALE,\n",
    "                    'none':MALE,\n",
    "                    'female':FEMALE}\n",
    "\n",
    "    # Make preprocess\n",
    "    df.gender.fillna(MALE, inplace=True)\n",
    "    df.gender = df.gender.apply(lambda x: gender_mapping[x])\n",
    "    df.birthdate = pd.to_datetime(df.birthdate, format=\"mixed\")\n",
    "    drivers.birthdate.fillna(datetime.datetime.now(),inplace=True)\n",
    "\n",
    "    return df\n",
    "\n",
    "def preprocess_taarif(taarif_df: pd.DataFrame, copy=False) -> pd.DataFrame:\n",
    "        df = taarif_df\n",
    "        if copy:\n",
    "            df = new_drivers.copy()\n",
    "\n",
    "        return df\n",
    "\n",
    "\n",
    "# Concat the two tables of drivers with and without kviut\n",
    "def concat_drivers_tables(new_drivers, drivers_with_kviut):\n",
    "    drivers_with_kviut[\"kviut\"] = 1\n",
    "    drivers = pd.concat([new_drivers, drivers_with_kviut])\n",
    "    drivers[\"kviut\"].fillna(0, inplace=True)\n",
    "    return drivers\n",
    "    "
   ]
  },
  {
   "cell_type": "code",
   "execution_count": 5,
   "metadata": {},
   "outputs": [],
   "source": [
    "drivers = concat_drivers_tables(new_drivers, drivers_with_kviut)\n",
    "drivers = preprocess_drivers(drivers, copy=True)"
   ]
  },
  {
   "cell_type": "code",
   "execution_count": 6,
   "metadata": {},
   "outputs": [],
   "source": [
    "from tqdm import tqdm\n",
    "def get_trip_files(folder, limit=100):\n",
    "    files = np.array(list(os.listdir(folder)))\n",
    "    if limit:\n",
    "        files = files[:limit]\n",
    "    files = np.array([name if not name[-5] == \")\" else name[:-7]+\".csv\" for name in files])\n",
    "    print(\"Processing files....\")\n",
    "    return np.array([TripFile(os.path.join(folder,file)) for file in tqdm(files)])"
   ]
  },
  {
   "cell_type": "code",
   "execution_count": 7,
   "metadata": {},
   "outputs": [],
   "source": [
    "\n",
    "def calculate_trip_salary(taarif, drivers, customer, trip_km, trip_start, trip_end):\n",
    "    info = \"\"\n",
    "    \n",
    "    basic_rate = taarif[taarif.customer == \"blalbalbla\"][\"basic_taarif\"]\n",
    "    if basic_rate.empty:\n",
    "        info = \"Company not found\"\n",
    "        return -1\n",
    "    \n",
    "    if not trip_start or not trip_end:\n",
    "        info = \"possible weekend bonus\\n\"\n",
    "    \n"
   ]
  },
  {
   "cell_type": "code",
   "execution_count": 31,
   "metadata": {},
   "outputs": [
    {
     "name": "stdout",
     "output_type": "stream",
     "text": [
      "Processing files....\n"
     ]
    },
    {
     "name": "stderr",
     "output_type": "stream",
     "text": [
      "  0%|          | 0/100 [00:00<?, ?it/s]"
     ]
    },
    {
     "name": "stderr",
     "output_type": "stream",
     "text": [
      "100%|██████████| 100/100 [00:00<00:00, 207.39it/s]"
     ]
    },
    {
     "name": "stdout",
     "output_type": "stream",
     "text": [
      "0     13446.254321\n",
      "1              NaN\n",
      "2       725.823979\n",
      "3              NaN\n",
      "4       771.501038\n",
      "5      2759.827000\n",
      "6      3870.011305\n",
      "7              NaN\n",
      "8              NaN\n",
      "9      2649.688860\n",
      "10             NaN\n",
      "11       81.706881\n",
      "12     3012.519807\n",
      "13             NaN\n",
      "14             NaN\n",
      "15     1576.672074\n",
      "16      419.454279\n",
      "17     1083.657110\n",
      "18     3671.935676\n",
      "19     9490.446214\n",
      "20             NaN\n",
      "21      634.097917\n",
      "22     1892.007950\n",
      "23     5971.314435\n",
      "24     2701.948601\n",
      "25     3040.771004\n",
      "26             NaN\n",
      "27     1362.857100\n",
      "28             NaN\n",
      "29     2153.632194\n",
      "30     1942.666302\n",
      "31    11034.528199\n",
      "32             NaN\n",
      "33             NaN\n",
      "34     4673.267702\n",
      "35             NaN\n",
      "36    12001.648431\n",
      "37     4275.969490\n",
      "38             NaN\n",
      "39             NaN\n",
      "40      512.527499\n",
      "41             NaN\n",
      "42             NaN\n",
      "43             NaN\n",
      "44      223.529437\n",
      "45             NaN\n",
      "46             NaN\n",
      "47    13268.482525\n",
      "48     1720.609531\n",
      "49             NaN\n",
      "50     1368.856742\n",
      "51     4460.832775\n",
      "52             NaN\n",
      "53             NaN\n",
      "dtype: float64\n"
     ]
    },
    {
     "name": "stderr",
     "output_type": "stream",
     "text": [
      "\n"
     ]
    }
   ],
   "source": [
    "def check_if_weekend(start_time, end_time):\n",
    "    return False\n",
    "\n",
    "def check_if_night(start_time, end_time):\n",
    "    return False\n",
    "\n",
    "def calculate_trips_cost(trips_with_fares):\n",
    "    \n",
    "    df = trips_with_fares.copy()\n",
    "    is_weekend = df.apply(lambda x: check_if_weekend(x.start_time, x.end_time), axis=1)\n",
    "    is_night = df.apply(lambda x: check_if_night(x.start_time, x.end_time), axis=1)\n",
    "    basic_pay = df.km * df.basic_taarif\n",
    "    extra_pay = max(0, df.km - 200) * df.extra_milage\n",
    "    payment = basic_pay + extra_pay\n",
    "\n",
    "    bonus_precentage = is_weekend.apply(int) * df.weekend_bonus + is_night.apply(int) * df.night_bonus\n",
    "    payment = payment.apply(lambda x: )\n",
    "\n",
    "\n",
    "def create_main_table():\n",
    "    # rates = Rates(\"files/taarif.csv\")\n",
    "    table = pd.DataFrame(columns=[\"id\",\"month\",\"year\",\"total_income\",\"total_km\",\"gender\",\"age\",\"vetek\",\"kviut\",\"info\"])\n",
    "    trip_files = get_trip_files(\"../files/trips_data\")\n",
    "    for trip_file in trip_files:\n",
    "        \n",
    "        trip_df = trip_file.get_data_frame()\n",
    "        # print(trip_df)\n",
    "        trips_with_fares = pd.merge(trip_df, taarif, on=[\"customer\"],how=\"left\")\n",
    "\n",
    "        \n",
    "        break\n",
    "    january = \"january\"\n",
    "\n",
    "\n",
    "create_main_table()\n",
    "\n",
    "    \n"
   ]
  },
  {
   "cell_type": "code",
   "execution_count": null,
   "metadata": {},
   "outputs": [],
   "source": [
    "df1 = pd.DataFrame({\"A\":[0,1,2,3],\n",
    "                    \"B\":[1,2,3,4]})\n",
    "\n",
    "df1.A + df1.B"
   ]
  },
  {
   "cell_type": "code",
   "execution_count": null,
   "metadata": {},
   "outputs": [],
   "source": []
  }
 ],
 "metadata": {
  "kernelspec": {
   "display_name": "Python 3",
   "language": "python",
   "name": "python3"
  },
  "language_info": {
   "codemirror_mode": {
    "name": "ipython",
    "version": 3
   },
   "file_extension": ".py",
   "mimetype": "text/x-python",
   "name": "python",
   "nbconvert_exporter": "python",
   "pygments_lexer": "ipython3",
   "version": "3.11.9"
  }
 },
 "nbformat": 4,
 "nbformat_minor": 2
}
