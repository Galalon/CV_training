{
 "cells": [
  {
   "cell_type": "code",
   "execution_count": 1,
   "metadata": {},
   "outputs": [],
   "source": [
    "import pandas as pd\n",
    "import numpy as np\n",
    "import seaborn as sns\n",
    "import datetime as datetime\n",
    "import os\n",
    "from constants import *\n",
    "# from trip_file import TripFile\n",
    "from trip import Trip\n"
   ]
  },
  {
   "cell_type": "code",
   "execution_count": 2,
   "metadata": {},
   "outputs": [],
   "source": [
    "taarif = pd.read_csv(\"../files/taarif.csv\")\n",
    "new_drivers = pd.read_csv(\"../files/new_drivers.csv\", index_col=0)\n",
    "drivers_with_kviut = pd.read_csv(\"../files/drivers_with_kviut.csv\",index_col=0)"
   ]
  },
  {
   "cell_type": "code",
   "execution_count": 3,
   "metadata": {},
   "outputs": [],
   "source": [
    "from tqdm import tqdm\n",
    "class TripFile():\n",
    "\n",
    "    def __init__(self, trip_file_path):\n",
    "        self.trip_file_path = trip_file_path\n",
    "        self.trip_df = pd.read_csv(trip_file_path, index_col=0)\n",
    "        self.file_name = os.path.basename(trip_file_path)\n",
    "        self.month = self.file_name.split(' ')[0]\n",
    "        self.year = self.file_name.split(' ')[1].split('_')[0]\n",
    "\n",
    "    def get_file_name(self):\n",
    "        return self.file_name\n",
    "\n",
    "    def get_data_frame(self):\n",
    "        return self.trip_df\n",
    "\n",
    "    def get_month(self):\n",
    "        return self.month\n",
    "    \n",
    "    def get_year(self,):\n",
    "        return self.year\n",
    "\n",
    "\n",
    "def get_trip_files(folder, limit=100):\n",
    "    files = np.array(list(os.listdir(folder)))\n",
    "    if limit:\n",
    "        files = files[:limit]\n",
    "    files = np.array([name if not name[-5] == \")\" else name[:-7]+\".csv\" for name in files])\n",
    "    print(\"Processing files....\")\n",
    "    return np.array([TripFile(os.path.join(folder,file)) for file in tqdm(files)])"
   ]
  },
  {
   "cell_type": "markdown",
   "metadata": {},
   "source": [
    "### All customers that are missing from the taarif file"
   ]
  },
  {
   "cell_type": "code",
   "execution_count": 5,
   "metadata": {},
   "outputs": [
    {
     "name": "stdout",
     "output_type": "stream",
     "text": [
      "Processing files....\n"
     ]
    },
    {
     "name": "stderr",
     "output_type": "stream",
     "text": [
      "  0%|          | 0/6111 [00:00<?, ?it/s]"
     ]
    },
    {
     "name": "stderr",
     "output_type": "stream",
     "text": [
      "100%|██████████| 6111/6111 [00:25<00:00, 241.24it/s]\n"
     ]
    },
    {
     "data": {
      "text/plain": [
       "array(['aminach', 'hot', 'yes'], dtype=object)"
      ]
     },
     "execution_count": 5,
     "metadata": {},
     "output_type": "execute_result"
    }
   ],
   "source": [
    "# trip_files = get_trip_files(\"../files/trips_data\", limit=None)\n",
    "trip_files = get_trip_files(\"../files/trips_data\", limit=None)\n",
    "first_trip = trip_files[0].get_data_frame()\n",
    "taarif.drop(0).reset_index().drop(columns=[\"index\"])\n",
    "missing_customers_all = []\n",
    "for file in trip_files:\n",
    "    trip_df = file.get_data_frame()\n",
    "    missing_customers = trip_df[~trip_df[\"customer\"].isin(taarif[\"customer\"])].customer.unique()\n",
    "    missing_customers_all += list(missing_customers)\n",
    "\n",
    "np.unique(missing_customers)\n"
   ]
  },
  {
   "cell_type": "markdown",
   "metadata": {},
   "source": [
    "### All people that their gender is missing"
   ]
  },
  {
   "cell_type": "code",
   "execution_count": 6,
   "metadata": {},
   "outputs": [],
   "source": [
    "def preprocess_drivers(drivers: pd.DataFrame, copy=False) -> pd.DataFrame:\n",
    "    df = drivers\n",
    "    if copy:\n",
    "        df = drivers.copy()\n",
    "\n",
    "    gender_mapping = {\"F\": FEMALE,\n",
    "                    \"M\":MALE,\n",
    "                    \"m\":MALE,\n",
    "                    \"male\":MALE,\n",
    "                    \"boy\":MALE,\n",
    "                    \"unknown\":None,\n",
    "                    'woman':FEMALE,\n",
    "                    'girl':FEMALE,\n",
    "                    'none':None,\n",
    "                    'female':FEMALE}\n",
    "\n",
    "    # Make preprocess\n",
    "    # df.gender.fillna(MALE, inplace=True)\n",
    "    df.gender = df.gender.apply(lambda x: x if pd.isna(x) else gender_mapping[x])\n",
    "    df.birthdate = pd.to_datetime(df.birthdate, format=\"mixed\")\n",
    "    # drivers.birthdate.fillna(datetime.datetime.now(),inplace=True)\n",
    "\n",
    "    return df\n",
    "\n",
    "# Concat the two tables of drivers with and without kviut\n",
    "def concat_drivers_tables(new_drivers, drivers_with_kviut):\n",
    "    drivers_with_kviut[\"kviut\"] = 1\n",
    "    drivers = pd.concat([new_drivers, drivers_with_kviut])\n",
    "    drivers[\"kviut\"].fillna(0, inplace=True)\n",
    "    return drivers\n",
    "\n"
   ]
  },
  {
   "cell_type": "code",
   "execution_count": 7,
   "metadata": {},
   "outputs": [],
   "source": [
    "drivers = concat_drivers_tables(new_drivers, drivers_with_kviut)\n",
    "drivers = preprocess_drivers(drivers, copy=True)"
   ]
  },
  {
   "cell_type": "markdown",
   "metadata": {},
   "source": [
    "### All drivers whose gender is unkown"
   ]
  },
  {
   "cell_type": "code",
   "execution_count": 11,
   "metadata": {},
   "outputs": [
    {
     "data": {
      "text/plain": [
       "60"
      ]
     },
     "execution_count": 11,
     "metadata": {},
     "output_type": "execute_result"
    }
   ],
   "source": [
    "drives_no_gender = drivers[drivers.gender.isna()][\"id\"]\n",
    "len(list(drives_no_gender))"
   ]
  },
  {
   "cell_type": "markdown",
   "metadata": {},
   "source": [
    "### All drivers whose birthdate is unknown"
   ]
  },
  {
   "cell_type": "code",
   "execution_count": 9,
   "metadata": {},
   "outputs": [
    {
     "data": {
      "text/plain": [
       "[779, 883, 388, 547, 397, 785, 871, 347, 668, 690]"
      ]
     },
     "execution_count": 9,
     "metadata": {},
     "output_type": "execute_result"
    }
   ],
   "source": [
    "list(drivers[drivers.birthdate.isna()][\"id\"])"
   ]
  },
  {
   "cell_type": "markdown",
   "metadata": {},
   "source": [
    "### Trips with missing start or end time"
   ]
  },
  {
   "cell_type": "code",
   "execution_count": 7,
   "metadata": {},
   "outputs": [
    {
     "name": "stdout",
     "output_type": "stream",
     "text": [
      "Processing files....\n"
     ]
    },
    {
     "name": "stderr",
     "output_type": "stream",
     "text": [
      "100%|██████████| 6111/6111 [00:21<00:00, 283.29it/s]\n"
     ]
    },
    {
     "name": "stdout",
     "output_type": "stream",
     "text": [
      "3229\n"
     ]
    }
   ],
   "source": [
    "trip_files = get_trip_files(\"../files/trips_data\", limit=None)\n",
    "first_trip = trip_files[0].get_data_frame()\n",
    "taarif.drop(0).reset_index().drop(columns=[\"index\"])\n",
    "missing_time_counter = 0\n",
    "missing_date_all = []\n",
    "for file in trip_files:\n",
    "    trip_df = file.get_data_frame()\n",
    "    missing_date = trip_df[trip_df[\"start_time\"].isna()]\n",
    "    missing_time_counter += len(missing_date)\n",
    "\n",
    "    # missing_date_all += list(missing_date)\n",
    "\n",
    "print(missing_time_counter)"
   ]
  },
  {
   "cell_type": "markdown",
   "metadata": {},
   "source": [
    "### MORE STUFF"
   ]
  },
  {
   "cell_type": "markdown",
   "metadata": {},
   "source": [
    "#### Try to complete times in drives with missing times"
   ]
  },
  {
   "cell_type": "code",
   "execution_count": null,
   "metadata": {},
   "outputs": [],
   "source": [
    "trips_df"
   ]
  }
 ],
 "metadata": {
  "kernelspec": {
   "display_name": "Python 3",
   "language": "python",
   "name": "python3"
  },
  "language_info": {
   "codemirror_mode": {
    "name": "ipython",
    "version": 3
   },
   "file_extension": ".py",
   "mimetype": "text/x-python",
   "name": "python",
   "nbconvert_exporter": "python",
   "pygments_lexer": "ipython3",
   "version": "3.11.9"
  }
 },
 "nbformat": 4,
 "nbformat_minor": 2
}
