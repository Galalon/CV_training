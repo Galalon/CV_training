{
 "cells": [
  {
   "cell_type": "code",
   "execution_count": 149,
   "metadata": {},
   "outputs": [],
   "source": [
    "import pandas as pd\n",
    "import numpy as np\n",
    "import seaborn as sns\n",
    "import datetime as datetime\n",
    "import os"
   ]
  },
  {
   "cell_type": "markdown",
   "metadata": {},
   "source": [
    "### Read all files"
   ]
  },
  {
   "cell_type": "code",
   "execution_count": 127,
   "metadata": {},
   "outputs": [],
   "source": [
    "taarif = pd.read_csv(\"files/taarif.csv\")\n",
    "new_drivers = pd.read_csv(\"files/new_drivers.csv\", index_col=0)\n",
    "drivers_with_kviut = pd.read_csv(\"files/drivers_with_kviut.csv\",index_col=0)\n"
   ]
  },
  {
   "cell_type": "code",
   "execution_count": 128,
   "metadata": {},
   "outputs": [
    {
     "data": {
      "text/plain": [
       "array(['F', 'M', 1, 'male', 'm', 'boy', 'unknown', 'woman', 'girl',\n",
       "       'none', 'female'], dtype=object)"
      ]
     },
     "execution_count": 128,
     "metadata": {},
     "output_type": "execute_result"
    }
   ],
   "source": [
    "drivers = pd.concat([new_drivers, drivers_with_kviut])\n",
    "x = drivers.gender\n",
    "y = x.fillna(1)\n",
    "y.unique()"
   ]
  },
  {
   "cell_type": "code",
   "execution_count": 139,
   "metadata": {},
   "outputs": [],
   "source": [
    "from project_files.constants import *\n",
    "def preprocess_taarif(taarif_df: pd.DataFrame, copy=False) -> pd.DataFrame:\n",
    "    df = drivers\n",
    "    if copy:\n",
    "        df = new_drivers.copy()\n",
    "\n",
    "    return df\n",
    "\n",
    "def preprocess_drivers(drivers: pd.DataFrame, copy=False) -> pd.DataFrame:\n",
    "    df = drivers\n",
    "    if copy:\n",
    "        df = drivers.copy()\n",
    "\n",
    "    gender_mapping = {\"F\": FEMALE,\n",
    "                    \"M\":MALE,\n",
    "                    \"m\":MALE,\n",
    "                    \"male\":MALE,\n",
    "                    \"boy\":MALE,\n",
    "                    \"unknown\":MALE,\n",
    "                    'woman':FEMALE,\n",
    "                    'girl':FEMALE,\n",
    "                    'none':MALE,\n",
    "                    'female':FEMALE}\n",
    "\n",
    "    # Make preprocess\n",
    "    df.gender.fillna(MALE, inplace=True)\n",
    "    df.gender = df.gender.apply(lambda x: gender_mapping[x])\n",
    "    df.birthdate = pd.to_datetime(df.birthdate, format=\"mixed\")\n",
    "    drivers.birthdate.fillna(datetime.datetime.now(),inplace=True)\n",
    "\n",
    "    return df\n",
    "    "
   ]
  },
  {
   "cell_type": "code",
   "execution_count": 147,
   "metadata": {},
   "outputs": [
    {
     "data": {
      "text/html": [
       "<div>\n",
       "<style scoped>\n",
       "    .dataframe tbody tr th:only-of-type {\n",
       "        vertical-align: middle;\n",
       "    }\n",
       "\n",
       "    .dataframe tbody tr th {\n",
       "        vertical-align: top;\n",
       "    }\n",
       "\n",
       "    .dataframe thead th {\n",
       "        text-align: right;\n",
       "    }\n",
       "</style>\n",
       "<table border=\"1\" class=\"dataframe\">\n",
       "  <thead>\n",
       "    <tr style=\"text-align: right;\">\n",
       "      <th></th>\n",
       "      <th>birthdate</th>\n",
       "      <th>gender</th>\n",
       "      <th>id</th>\n",
       "      <th>vetek</th>\n",
       "    </tr>\n",
       "  </thead>\n",
       "  <tbody>\n",
       "    <tr>\n",
       "      <th>206</th>\n",
       "      <td>2024-05-06 14:59:16.443085</td>\n",
       "      <td>m</td>\n",
       "      <td>779</td>\n",
       "      <td>18.0</td>\n",
       "    </tr>\n",
       "    <tr>\n",
       "      <th>338</th>\n",
       "      <td>2024-05-06 14:59:16.443085</td>\n",
       "      <td>m</td>\n",
       "      <td>883</td>\n",
       "      <td>15.3</td>\n",
       "    </tr>\n",
       "    <tr>\n",
       "      <th>415</th>\n",
       "      <td>2024-05-06 14:59:16.443085</td>\n",
       "      <td>m</td>\n",
       "      <td>388</td>\n",
       "      <td>1.6</td>\n",
       "    </tr>\n",
       "    <tr>\n",
       "      <th>525</th>\n",
       "      <td>2024-05-06 14:59:16.443085</td>\n",
       "      <td>m</td>\n",
       "      <td>547</td>\n",
       "      <td>7.5</td>\n",
       "    </tr>\n",
       "    <tr>\n",
       "      <th>590</th>\n",
       "      <td>2024-05-06 14:59:16.443085</td>\n",
       "      <td>m</td>\n",
       "      <td>397</td>\n",
       "      <td>12.9</td>\n",
       "    </tr>\n",
       "    <tr>\n",
       "      <th>670</th>\n",
       "      <td>2024-05-06 14:59:16.443085</td>\n",
       "      <td>m</td>\n",
       "      <td>785</td>\n",
       "      <td>14.7</td>\n",
       "    </tr>\n",
       "    <tr>\n",
       "      <th>701</th>\n",
       "      <td>2024-05-06 14:59:16.443085</td>\n",
       "      <td>m</td>\n",
       "      <td>871</td>\n",
       "      <td>7.2</td>\n",
       "    </tr>\n",
       "    <tr>\n",
       "      <th>708</th>\n",
       "      <td>2024-05-06 14:59:16.443085</td>\n",
       "      <td>m</td>\n",
       "      <td>347</td>\n",
       "      <td>15.2</td>\n",
       "    </tr>\n",
       "    <tr>\n",
       "      <th>755</th>\n",
       "      <td>2024-05-06 14:59:16.443085</td>\n",
       "      <td>m</td>\n",
       "      <td>668</td>\n",
       "      <td>14.9</td>\n",
       "    </tr>\n",
       "    <tr>\n",
       "      <th>901</th>\n",
       "      <td>2024-05-06 14:59:16.443085</td>\n",
       "      <td>m</td>\n",
       "      <td>690</td>\n",
       "      <td>8.8</td>\n",
       "    </tr>\n",
       "  </tbody>\n",
       "</table>\n",
       "</div>"
      ],
      "text/plain": [
       "                     birthdate gender   id  vetek\n",
       "206 2024-05-06 14:59:16.443085      m  779   18.0\n",
       "338 2024-05-06 14:59:16.443085      m  883   15.3\n",
       "415 2024-05-06 14:59:16.443085      m  388    1.6\n",
       "525 2024-05-06 14:59:16.443085      m  547    7.5\n",
       "590 2024-05-06 14:59:16.443085      m  397   12.9\n",
       "670 2024-05-06 14:59:16.443085      m  785   14.7\n",
       "701 2024-05-06 14:59:16.443085      m  871    7.2\n",
       "708 2024-05-06 14:59:16.443085      m  347   15.2\n",
       "755 2024-05-06 14:59:16.443085      m  668   14.9\n",
       "901 2024-05-06 14:59:16.443085      m  690    8.8"
      ]
     },
     "execution_count": 147,
     "metadata": {},
     "output_type": "execute_result"
    }
   ],
   "source": [
    "drivers = pd.concat([new_drivers, drivers_with_kviut])\n",
    "drivers = preprocess_drivers(drivers, copy=True)"
   ]
  },
  {
   "cell_type": "markdown",
   "metadata": {},
   "source": [
    "### Read files of trips"
   ]
  },
  {
   "cell_type": "code",
   "execution_count": 171,
   "metadata": {},
   "outputs": [],
   "source": [
    "import gc\n",
    "import tqdm\n",
    "trips_folder = \"files/trips_data\"\n",
    "# for file in tqdm.tqdm(os.listdir(trips_folder)):\n",
    "#     file_path = os.path.join(trips_folder,file)\n",
    "#     trip = pd.read_csv(file_path)\n",
    "#     if trip.driver_id.isna().any():\n",
    "#         print(\"fuck this\", file)\n",
    "#     if trip.km.isna().any():\n",
    "#         print(\"fuck this km\", file)\n",
    "#     if trip.customer.isna().any():\n",
    "        # print(\"fuck this name\", file)\n",
    "\n"
   ]
  },
  {
   "cell_type": "code",
   "execution_count": 177,
   "metadata": {},
   "outputs": [
    {
     "name": "stdout",
     "output_type": "stream",
     "text": [
      "Searching for suplicates\n",
      "['april 2015_4781353.csv' 'april 2015_4781354.csv'\n",
      " 'april 2015_4781355.csv' ... 'september 2015_4781850.csv'\n",
      " 'september 2015_4781851.csv' 'september 2015_4781852.csv']\n"
     ]
    }
   ],
   "source": [
    "def get_unique_files(folder):\n",
    "    files = np.array(list(os.listdir(folder)))\n",
    "    files = np.array([name if not name[-5] == \")\" else name[:-7]+\".csv\" for name in files])\n",
    "    return np.unique(files)\n",
    "        "
   ]
  },
  {
   "cell_type": "code",
   "execution_count": null,
   "metadata": {},
   "outputs": [],
   "source": []
  }
 ],
 "metadata": {
  "kernelspec": {
   "display_name": "Python 3",
   "language": "python",
   "name": "python3"
  },
  "language_info": {
   "codemirror_mode": {
    "name": "ipython",
    "version": 3
   },
   "file_extension": ".py",
   "mimetype": "text/x-python",
   "name": "python",
   "nbconvert_exporter": "python",
   "pygments_lexer": "ipython3",
   "version": "3.11.9"
  }
 },
 "nbformat": 4,
 "nbformat_minor": 2
}
